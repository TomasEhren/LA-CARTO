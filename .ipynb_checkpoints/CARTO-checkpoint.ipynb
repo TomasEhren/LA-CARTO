{
 "cells": [
  {
   "cell_type": "markdown",
   "id": "f8600051-9fab-4751-a12c-a75b9625381c",
   "metadata": {},
   "source": [
    "# <font size=7>Real Estate Development/Investing Analysis</font>"
   ]
  },
  {
   "cell_type": "markdown",
   "id": "6f8ce89e-88fa-490c-86e3-60cb6e03c996",
   "metadata": {},
   "source": [
    "<font size=4>Topics:</font>\n",
    "1. Data analysis without geospatial tools\n",
    "2. Geospatial integration to the analysis\n",
    "   - Dynamic Maps + Widgets\n",
    "   - SQL utilities\n",
    "   - Carto Routing for shopping dominance areas\n",
    "3. Regression clasiffier for house price prediction\n",
    "   - Carto Isochrones for POIs availability\n",
    "   - Carto Data Catalog"
   ]
  },
  {
   "cell_type": "markdown",
   "id": "f3e2d964-9c7f-44ad-944b-473b4f79b357",
   "metadata": {
    "heading_collapsed": "true",
    "tags": []
   },
   "source": [
    "## <font size=6>1. Load libraries</font>"
   ]
  },
  {
   "cell_type": "code",
   "execution_count": null,
   "id": "9c87d793-bb50-43da-924a-b5aeb59e1d30",
   "metadata": {},
   "outputs": [],
   "source": [
    "from cartoframes.data.services import Isolines\n",
    "from cartoframes import viz, read_carto, to_carto\n",
    "from cartoframes.auth import set_default_credentials\n",
    "set_default_credentials('creds.json')\n",
    "\n",
    "import pandas as pd\n",
    "import numpy as np\n",
    "\n",
    "import matplotlib.pyplot as plt \n",
    "from mpl_toolkits.axes_grid1 import make_axes_locatable\n",
    "from matplotlib.ticker import FuncFormatter\n",
    "import seaborn as sns\n",
    "sns.set_style('whitegrid')\n",
    "\n",
    "from shapely.geometry import Point\n",
    "import geopandas as gpd\n",
    "\n",
    "from sklearn.model_selection import train_test_split\n",
    "from sklearn import metrics\n",
    "from sklearn.tree import DecisionTreeRegressor\n",
    "\n",
    "import time\n",
    "import datetime\n",
    "import os\n",
    "import warnings\n",
    "warnings.filterwarnings('ignore')"
   ]
  },
  {
   "cell_type": "markdown",
   "id": "53c8cf52-f19c-4c46-97ad-5063ea0fa66a",
   "metadata": {
    "heading_collapsed": "true",
    "tags": []
   },
   "source": [
    "## <font size=6>2. Data prep</font>"
   ]
  },
  {
   "cell_type": "code",
   "execution_count": null,
   "id": "846ea469-4b16-4ea7-8e3d-7e03568bed5c",
   "metadata": {},
   "outputs": [],
   "source": [
    "neighbourhoods = gpd.read_file('data/vector/Neighborhoods.geojson')\n",
    "homes = gpd.read_file('data/vector/la_homes.geojson')"
   ]
  },
  {
   "cell_type": "code",
   "execution_count": null,
   "id": "f362f637-6209-45b6-82a1-a713ed12236a",
   "metadata": {},
   "outputs": [],
   "source": [
    "neighbourhoods.head(3)"
   ]
  },
  {
   "cell_type": "code",
   "execution_count": null,
   "id": "071dd450-6c96-4c72-8d82-2653571e930e",
   "metadata": {},
   "outputs": [],
   "source": [
    "homes.head(3)"
   ]
  },
  {
   "cell_type": "code",
   "execution_count": null,
   "id": "5f1a178e-24dc-48a0-a05e-86c184e23b86",
   "metadata": {},
   "outputs": [],
   "source": [
    "print('Counties cols:')\n",
    "print(neighbourhoods.columns)\n",
    "print('\\nLA homes cols:')\n",
    "print(homes.columns)"
   ]
  },
  {
   "cell_type": "code",
   "execution_count": null,
   "id": "0a529bd1-2b5e-487a-bffa-b01b428472dc",
   "metadata": {},
   "outputs": [],
   "source": [
    "cols = [\n",
    "    'cartodb_id', 'date', 'saleprice', 'bedrooms', 'bathrooms',\n",
    "    'effective_yearbuilt', 'generalusetype', 'specificusetype', 'sqftmain', \n",
    "    'price_sqft', 'city', 'homes', 'centroid'\n",
    "]\n",
    "numcols = ['saleprice', 'sqftmain', 'bedrooms', 'bathrooms']\n",
    "\n",
    "homes['centroid'] = homes['geometry'].to_crs('EPSG:3857').centroid.to_crs(homes.crs)\n",
    "homes['price_sqft'] = homes.saleprice/homes.sqftmain\n",
    "\n",
    "homes = (\n",
    "    homes.set_geometry('centroid')\n",
    "    .rename(columns={\n",
    "        'geometry': 'homes',\n",
    "        'formatted_saledate': 'date'\n",
    "    })\n",
    "    .loc[:, cols]\n",
    "    .dropna()\n",
    ")\n",
    "\n",
    "for col in numcols:\n",
    "    _min, _max = np.percentile(homes[col], [5, 95])\n",
    "    homes = homes[homes[col].between(_min, _max)]"
   ]
  },
  {
   "cell_type": "code",
   "execution_count": null,
   "id": "7252f83d-d480-416e-b071-c985006e1f76",
   "metadata": {},
   "outputs": [],
   "source": [
    "ax = neighbourhoods.boundary.plot(color='gray', linewidth=.4, figsize=(10,10))\n",
    "homes.plot(markersize=.2, alpha=.1, color='r', ax=ax)\n",
    "plt.axis('off');"
   ]
  },
  {
   "cell_type": "code",
   "execution_count": null,
   "id": "ea8424c6-3d7a-4e28-bca9-5c5528f327f5",
   "metadata": {},
   "outputs": [],
   "source": [
    "# select only homes from LA\n",
    "tstart = time.time()\n",
    "assert homes.crs == neighbourhoods.crs, \"gdfs must have same CRS.\"\n",
    "la_homes = gpd.sjoin(homes, neighbourhoods).drop(columns=['index_right']).rename(columns={'name': 'neighbourhood'})\n",
    "print(f'Spatial join took {round(time.time() - tstart, 2)} secs.')\n",
    "print(len(la_homes), 'home sales in LA.')"
   ]
  },
  {
   "cell_type": "code",
   "execution_count": null,
   "id": "51a82b16-ca6b-43a0-9923-9ff58c822bce",
   "metadata": {},
   "outputs": [],
   "source": [
    "ax = neighbourhoods.boundary.plot(color='gray', linewidth=.4, figsize=(10,10))\n",
    "la_homes.plot(markersize=.4, alpha=.1, color='r', ax=ax)\n",
    "plt.axis('off');"
   ]
  },
  {
   "cell_type": "code",
   "execution_count": null,
   "id": "56ff6ec6-d106-469e-bf84-eefe84bb0062",
   "metadata": {},
   "outputs": [],
   "source": [
    "la_homes.drop(columns=['homes']).to_file('data/vector/la_homes_clean.geojson', driver='GeoJSON')"
   ]
  },
  {
   "cell_type": "markdown",
   "id": "5ea26bc8-35f6-44bd-9ce7-8151fcf12d01",
   "metadata": {
    "heading_collapsed": "true",
    "tags": []
   },
   "source": [
    "## <font size=6>3. Data analysis</font>"
   ]
  },
  {
   "cell_type": "code",
   "execution_count": null,
   "id": "80602fed-7e11-4400-9b8f-ffae9918a97c",
   "metadata": {},
   "outputs": [],
   "source": [
    "la_homes = gpd.read_file('data/vector/la_homes_clean.geojson');\n",
    "\n",
    "la_homes['effective_yearbuilt'] = la_homes.effective_yearbuilt.astype(int);\n",
    "la_homes['date'] = pd.to_datetime(la_homes['date'])\n",
    "la_homes = la_homes.sort_values('date')\n",
    "\n",
    "la_homes.head()"
   ]
  },
  {
   "cell_type": "markdown",
   "id": "c1c944b1-18f8-48c5-92d1-89c26895e933",
   "metadata": {},
   "source": [
    "Ok, so we have information 84k sells over the past 3 years and we know for each operation, the **date**, **price**, **house square footage**, **number of bedrooms and bathrooms**, **year of construction** and **type of use**.\n",
    "\n",
    "Let's start by asking:"
   ]
  },
  {
   "cell_type": "markdown",
   "id": "ff17aab8-bb40-42ba-aa65-600a79b332c0",
   "metadata": {
    "tags": []
   },
   "source": [
    "<font size=4> What type of house are currently beeing sold in LA?</font>"
   ]
  },
  {
   "cell_type": "code",
   "execution_count": null,
   "id": "90e4f301-f392-42ef-b819-c4b9b2976343",
   "metadata": {},
   "outputs": [],
   "source": [
    "print('Properties general use type sells:')\n",
    "la_homes.generalusetype.value_counts()"
   ]
  },
  {
   "cell_type": "code",
   "execution_count": null,
   "id": "929ef0eb-6661-4448-973e-b587043687d0",
   "metadata": {},
   "outputs": [],
   "source": [
    "print('Properties specific use type sells:')\n",
    "print(la_homes.specificusetype.value_counts().head(10))\n",
    "print('')"
   ]
  },
  {
   "cell_type": "markdown",
   "id": "1f9f904e-6436-45b4-b726-693d092b681e",
   "metadata": {},
   "source": [
    "<font size=4>Price / Size relation</font>"
   ]
  },
  {
   "cell_type": "code",
   "execution_count": null,
   "id": "fd6cab56-e4e9-4a3b-a87a-7ad91e73b5f7",
   "metadata": {},
   "outputs": [],
   "source": [
    "fig, ax = plt.subplots(figsize=(17, 7))\n",
    "sns.scatterplot(data=la_homes, x='sqftmain', y='saleprice', alpha=0.1, s=4, ax=ax)\n",
    "ax.set_title('Price/size relation', y=1.05, fontdict={'fontsize': 20});\n",
    "ax.set_xlabel('House size (sqft)', fontdict={'fontsize': 14})\n",
    "ax.set_ylabel('House price (USD)', fontdict={'fontsize': 14})\n",
    "ax.set_xlim(800,3500)\n",
    "ax.set_ylim(0.25e6, 2.3e6)\n",
    "formatter = FuncFormatter(lambda x, pos: '%1.1fM' % (x * 1e-6))\n",
    "ax.yaxis.set_major_formatter(formatter)"
   ]
  },
  {
   "cell_type": "markdown",
   "id": "3456e9a3-b0c7-443e-90cb-48d9386b4169",
   "metadata": {},
   "source": [
    "<font size=4>What is the distribution of prices in LA?</font>"
   ]
  },
  {
   "cell_type": "code",
   "execution_count": null,
   "id": "1dc9bd86-ca31-445c-9056-36df0e77ac13",
   "metadata": {},
   "outputs": [],
   "source": [
    "fig, ax = plt.subplots(figsize=(17, 7))\n",
    "\n",
    "sns.histplot(data=la_homes, x=\"price_sqft\", stat=\"probability\", bins=50, ax=ax);\n",
    "ax.set_xlim(150, 1450);\n",
    "ax.set_xticks(range(200, 1500, 100));\n",
    "\n",
    "ax.set_title('Distribution of prices per square foot in LA', y=1.05, fontdict={'fontsize': 20});\n",
    "ax.set_ylabel('Density of houses per bin', fontdict={'fontsize': 14})\n",
    "ax.set_xlabel('Price per square foot (USD)', fontdict={'fontsize': 14})\n",
    "ax.xaxis.set_label_coords(0.5,-.08)"
   ]
  },
  {
   "cell_type": "markdown",
   "id": "81421369-e8be-4399-bc7b-92e865dea05b",
   "metadata": {},
   "source": [
    "It seems that most houses cost betwenn 300 and 500 USD per squared feet although there are some cheaper houses and a skew to the right with more expensive options.\n",
    "\n",
    "Let's check what the most expensive and cheaper neighbourhoods are."
   ]
  },
  {
   "cell_type": "code",
   "execution_count": null,
   "id": "87bc85ac-13c1-47bc-a499-bd1e842099e5",
   "metadata": {},
   "outputs": [],
   "source": [
    "price_per_neighbourhood = la_homes.groupby('neighbourhood')['price_sqft'].mean().sort_values(ascending=False).to_frame().round(0).astype(int)\n",
    "top10 = price_per_neighbourhood.head(10).copy()\n",
    "bottom10 = price_per_neighbourhood.tail(10).copy()\n",
    "\n",
    "print('Top 10 most expensive neighbourhoods:')\n",
    "print(top10)\n",
    "\n",
    "print('\\nTop 10 cheapest neighbourhoods:')\n",
    "print(bottom10)\n",
    "print('')"
   ]
  },
  {
   "cell_type": "markdown",
   "id": "3d605635-8549-4250-ac93-b1ef64d90fdd",
   "metadata": {},
   "source": [
    "Let's compare the distribution of price between these groups of neighbourhoods."
   ]
  },
  {
   "cell_type": "code",
   "execution_count": null,
   "id": "03a4aca9-1ccd-46db-afdb-6e34de1a42b3",
   "metadata": {},
   "outputs": [],
   "source": [
    "top10_homes = la_homes.loc[la_homes.neighbourhood.isin(top10.index), 'price_sqft'].to_frame().copy()\n",
    "top10_homes['group'] = 'top'\n",
    "\n",
    "bottom10_homes = la_homes.loc[la_homes.neighbourhood.isin(bottom10.index), 'price_sqft'].to_frame().copy()\n",
    "bottom10_homes['group'] = 'bottom'\n",
    "\n",
    "fig, ax = plt.subplots(figsize=(17, 7))\n",
    "\n",
    "sns.histplot(\n",
    "    data=pd.concat([top10_homes, bottom10_homes]), \n",
    "    x='price_sqft', \n",
    "    stat='probability', \n",
    "    hue='group',\n",
    "    bins=40,\n",
    "    ax=ax)\n",
    "\n",
    "ax.set_xlim(150, 1450);\n",
    "ax.set_xticks(range(100, 1800, 100));\n",
    "ax.set_title('Distribution of prices per square foot in LA', y=1.05, fontdict={'fontsize': 20});\n",
    "ax.set_ylabel('Density of houses per bin', fontdict={'fontsize': 14})\n",
    "ax.set_xlabel('Price per square foot (USD)', fontdict={'fontsize': 14})\n",
    "ax.xaxis.set_label_coords(0.5,-.08)\n",
    "\n",
    "legend = ax.get_legend()\n",
    "handles = legend.legendHandles\n",
    "legend.remove()\n",
    "ax.legend(handles, ['Top neighbourhoods', 'Bottom neighbourhoods'], title='Groups', fontsize='x-large')\n",
    "plt.show()"
   ]
  },
  {
   "cell_type": "markdown",
   "id": "2ea3476a-21af-424b-ace5-77180075cecc",
   "metadata": {},
   "source": [
    "Interesting, aparently cheaper neighbourhoods are actually cheap, but the most expensive neighbourhoods actually have a wider distribution of prices. This means we will need to look at more granular data to find out what areas are the most expensive ones and why! \n",
    "\n",
    "Before we get into that, lets check if price per sqft varies according to the season."
   ]
  },
  {
   "cell_type": "markdown",
   "id": "ccddd242-47d0-4f53-99a9-8594950cd32e",
   "metadata": {},
   "source": [
    "<font size=4>IS there any seasonlaity?</font>"
   ]
  },
  {
   "cell_type": "code",
   "execution_count": null,
   "id": "b80dd144-40d4-45e8-84f2-dabb8c60df5f",
   "metadata": {},
   "outputs": [],
   "source": [
    "window = 7\n",
    "roll = (\n",
    "    la_homes.groupby(pd.Grouper(key='date', freq='1W')).agg({\n",
    "        'cartodb_id': 'count',\n",
    "        'price_sqft': 'mean'\n",
    "    }).rename(columns={\n",
    "        'cartodb_id': 'n_sales',\n",
    "        'price_sqft': 'mean_price_sqft'\n",
    "    }).rolling(window).mean().round(1)\n",
    "    .iloc[:-3]\n",
    ")\n",
    "\n",
    "roll.tail()"
   ]
  },
  {
   "cell_type": "code",
   "execution_count": null,
   "id": "961e93b4-d7cd-4e92-aee0-08133d669f15",
   "metadata": {},
   "outputs": [],
   "source": [
    "fig, ax = plt.subplots(figsize=(17, 7))\n",
    "\n",
    "sns.lineplot(data=roll.reset_index(), x=\"date\", y=\"n_sales\", ax=ax, label='Number of home sales', legend=None)\n",
    "ax.set_xlim([roll.index[5], roll.index.max() + pd.Timedelta(6, 'day')]);\n",
    "ax.set_ylim(400, 1100)\n",
    "ax.set_title('Home sales seasonality', y=1.05, fontdict={'fontsize': 20});\n",
    "ax.set_ylabel('N° of houses sold', fontdict={'fontsize': 14})\n",
    "ax.set_xlabel('Date', fontdict={'fontsize': 14})\n",
    "ax.xaxis.set_label_coords(0.5,-.08)\n",
    "\n",
    "\n",
    "ax2 = ax.twinx()\n",
    "sns.scatterplot(data=roll.reset_index(), x=\"date\", y=\"mean_price_sqft\", ax=ax2, label='Mean price per square foot', color='orange', legend=None)\n",
    "ax2.grid(False)\n",
    "ax2.set_title('Home sales seasonality', y=1.05, fontdict={'fontsize': 20});\n",
    "ax2.set_ylabel('Price per squared ft (USD)', fontdict={'fontsize': 14})\n",
    "ax2.set_xlabel('Date', fontdict={'fontsize': 14})\n",
    "ax2.yaxis.set_label_coords(1.05, 0.5)\n",
    "\n",
    "lines, labels = ax.get_legend_handles_labels()\n",
    "lines2, labels2 = ax2.get_legend_handles_labels()\n",
    "ax2.legend(lines + lines2, labels + labels2, loc=0, fontsize='large');"
   ]
  },
  {
   "cell_type": "markdown",
   "id": "07794a5e-2012-4453-b36d-acd8bb60217a",
   "metadata": {
    "tags": []
   },
   "source": [
    "It looks like house demand increases on summer and decreases on winter. Apparently, the hous demand has a relation with the house price per sqeare foot. Makes sense, the greater the demand, the higher the price."
   ]
  },
  {
   "cell_type": "markdown",
   "id": "aab73589-997b-4f1f-a37b-9deb2fffdf27",
   "metadata": {
    "heading_collapsed": "true",
    "tags": []
   },
   "source": [
    "## <font size=6>4. Geospatial analysis</font>"
   ]
  },
  {
   "cell_type": "markdown",
   "id": "74d9a37f-1901-41ce-8737-96324da07334",
   "metadata": {
    "heading_collapsed": "true",
    "tags": []
   },
   "source": [
    "### Carto Dynamic Maps "
   ]
  },
  {
   "cell_type": "code",
   "execution_count": null,
   "id": "27823a86-290b-4d0f-885c-31fcd518836c",
   "metadata": {},
   "outputs": [],
   "source": [
    "neighbourhoods = gpd.read_file('data/vector/Neighborhoods.geojson')"
   ]
  },
  {
   "cell_type": "code",
   "execution_count": null,
   "id": "8d18f474-191c-41c1-b6aa-d8e0680a1477",
   "metadata": {},
   "outputs": [],
   "source": [
    "ax = neighbourhoods.boundary.plot(figsize=(14,14), alpha=.4)\n",
    "la_homes.plot(ax=ax, markersize=.5, alpha=.1, color='r')\n",
    "ax.grid(False)\n",
    "ax.axis('off');"
   ]
  },
  {
   "cell_type": "code",
   "execution_count": null,
   "id": "e878d0ee-dc64-45b1-b229-2bb5d33474e9",
   "metadata": {},
   "outputs": [],
   "source": [
    "viz.Map(\n",
    "    layers= [\n",
    "        viz.Layer(\n",
    "            source=la_homes,\n",
    "            style=viz.color_bins_style('price_sqft', palette='Temps'),\n",
    "            widgets=viz.histogram_widget('price_sqft', title='diff histogram', buckets=9)\n",
    "        ),\n",
    "        viz.Layer(\n",
    "            source=neighbourhoods,\n",
    "            style=viz.basic_style(stroke_color='black', opacity=0, stroke_width=1),\n",
    "            popup_click=viz.popup_element('name', title='Neighbourhood:')\n",
    "        )\n",
    "    ]\n",
    ")"
   ]
  },
  {
   "cell_type": "code",
   "execution_count": null,
   "id": "43c61d82-bcfd-4850-bd37-33aeee56afbb",
   "metadata": {},
   "outputs": [],
   "source": [
    "cols = ['effective_yearbuilt', 'sqftmain', 'saleprice', 'geometry', 'neighbourhood']\n",
    "\n",
    "neighbourhood_agg = gpd.sjoin(neighbourhoods, la_homes)\\\n",
    "    .groupby('neighbourhood')[['price_sqft', 'saleprice', 'geometry']].agg(\n",
    "        mean_sqft=pd.NamedAgg(column='price_sqft', aggfunc='mean'),\n",
    "        n_sales=pd.NamedAgg(column='price_sqft', aggfunc='count'),\n",
    "        total_usd=pd.NamedAgg(column='saleprice', aggfunc='sum'),\n",
    "        geometry=pd.NamedAgg(column='geometry', aggfunc=lambda g: g.iloc[0]),\n",
    "    ).set_geometry('geometry')\n",
    "neighbourhood_agg.head(3)"
   ]
  },
  {
   "cell_type": "code",
   "execution_count": null,
   "id": "58ab9d31-fb81-4f41-89d4-f32f5bb77b93",
   "metadata": {},
   "outputs": [],
   "source": [
    "fig, ax = plt.subplots(figsize=(12, 12))\n",
    "\n",
    "neighbourhood_agg.plot(column='total_usd', k=6, scheme='NaturalBreaks', cmap='magma', ax=ax, legend=False)"
   ]
  },
  {
   "cell_type": "markdown",
   "id": "84491fe7-1895-42b0-aa12-2ff1592a69a0",
   "metadata": {
    "heading_collapsed": "true",
    "tags": []
   },
   "source": [
    "### Carto SQL functionality & Dynamic Maps"
   ]
  },
  {
   "cell_type": "code",
   "execution_count": null,
   "id": "db86493b-e497-443d-bcd3-0c6169d1fceb",
   "metadata": {},
   "outputs": [],
   "source": [
    "xmin, ymin, xmax, ymax = neighbourhoods.unary_union.bounds\n",
    "sql = f\"\"\"\n",
    "Select ST_Transform(CDB_HexagonGrid(ST_Transform(ST_MakeEnvelope({xmin}, {ymin}, {xmax}, {ymax}, 4326), 3857), 700), 4326) as the_geom\n",
    "\"\"\"\n",
    "grid = read_carto(sql)\n",
    "print('Grid created successfully.')\n",
    "\n",
    "assert neighbourhoods.crs == grid.crs, \"gdfs must have same CRS.\"\n",
    "\n",
    "clipped_grid = (\n",
    "    gpd.sjoin(grid, neighbourhoods)\n",
    "        .drop_duplicates('the_geom')\n",
    "        .geometry.to_frame()\n",
    "        .reset_index(drop=True)\n",
    "        .rename(columns={'the_geom': 'geometry'})\n",
    "        .set_geometry('geometry')\n",
    ")\n",
    "\n",
    "numcols = ['saleprice', 'sqftmain', 'price_sqft']\n",
    "\n",
    "stime = time.time()\n",
    "\n",
    "stats_per_hex = (\n",
    "    gpd.sjoin( \n",
    "        clipped_grid,\n",
    "        la_homes[numcols + ['geometry']],\n",
    "        how='inner',\n",
    "        op='intersects'\n",
    "    )\n",
    "    .reset_index()\n",
    "    .groupby('index').agg(\n",
    "        tot_sales=pd.NamedAgg(column='saleprice', aggfunc='sum'),\n",
    "        sqftmain=pd.NamedAgg(column='sqftmain', aggfunc='mean'),\n",
    "        price_sqft=pd.NamedAgg(column='price_sqft', aggfunc='mean'),\n",
    "        n_sales=pd.NamedAgg(column='price_sqft', aggfunc='count'),\n",
    "        geometry=pd.NamedAgg(column='geometry', aggfunc=lambda g: g.iloc[0]),\n",
    "    )\n",
    "    .set_geometry('geometry')\n",
    "    .round()\n",
    "    \n",
    ")\n",
    "\n",
    "print(f'Stats for {len(la_homes)} homes and {len(clipped_grid)} hexagons calculated in {round(time.time() - stime, 2)} secs.')\n",
    "stats_per_hex.head()"
   ]
  },
  {
   "cell_type": "code",
   "execution_count": null,
   "id": "b5fef13a-23e5-4e60-bec3-ed8ce190c53f",
   "metadata": {},
   "outputs": [],
   "source": [
    "palette = '[#dc7176,#c8586c,#9c3f5d,#70284a,#ecda9a,#efc47e,#f3ad6a]'\n",
    "\n",
    "viz.Layout(\n",
    "    [\n",
    "        viz.Map( # price_sqft\n",
    "            layers=[\n",
    "                viz.Layer(\n",
    "                    source=stats_per_hex, \n",
    "                    style=viz.color_bins_style('price_sqft', bins=7, opacity='.8', palette='reverse(sunset)', stroke_width=0), \n",
    "                    popup_click=viz.popup_element('price_sqft', title='Price per sqft:'),\n",
    "                    encode_data=False\n",
    "                ),\n",
    "                viz.Layer(\n",
    "                    source=neighbourhoods,\n",
    "                    style=viz.basic_style(stroke_width=0.8, opacity=0, stroke_color='gray'),\n",
    "                    popup_click=viz.popup_element('name', title='Neighbourhood:')\n",
    "                )\n",
    "            ],\n",
    "           title=\"Mean price per square foot\"\n",
    "        ),\n",
    "        viz.Map( # n_sales\n",
    "            layers=[\n",
    "                viz.Layer(\n",
    "                    source=stats_per_hex, \n",
    "                    style=viz.color_bins_style('n_sales', bins=7, opacity='.8', palette='reverse(sunset)', stroke_width=0, method='quantiles'), \n",
    "                    encode_data=False\n",
    "                ),\n",
    "                viz.Layer(\n",
    "                    source=neighbourhoods,\n",
    "                    style=viz.basic_style(stroke_width=0.8, opacity=0, stroke_color='gray'),\n",
    "                    popup_click=viz.popup_element('name', title='Neighbourhood:')\n",
    "                )\n",
    "            ],\n",
    "           title=\"Number of sale operations\"\n",
    "        ),\n",
    "                viz.Map( # price\n",
    "            layers=[\n",
    "                viz.Layer(\n",
    "                    source=stats_per_hex, \n",
    "                    style=viz.color_bins_style('tot_sales', bins=5, opacity='.8', palette='reverse(sunset)', stroke_width=0, method='quantiles'), \n",
    "                    encode_data=False\n",
    "                ),\n",
    "                viz.Layer(\n",
    "                    source=neighbourhoods,\n",
    "                    style=viz.basic_style(stroke_width=0.8, opacity=0, stroke_color='gray'),\n",
    "                    popup_click=viz.popup_element('name', title='Neighbourhood:')\n",
    "                )\n",
    "            ],\n",
    "           title=\"Total sales (USD)\"\n",
    "        ),\n",
    "        viz.Map( # size\n",
    "            layers=[\n",
    "                viz.Layer(\n",
    "                    source=stats_per_hex, \n",
    "                    style=viz.color_bins_style('sqftmain', bins=7, opacity='.8', palette='reverse(sunset)', stroke_width=0, method='quantiles'), \n",
    "                    encode_data=False\n",
    "                ),\n",
    "                viz.Layer(\n",
    "                    source=neighbourhoods,\n",
    "                    style=viz.basic_style(stroke_width=0.8, opacity=0, stroke_color='gray'),\n",
    "                    popup_click=viz.popup_element('name', title='Neighbourhood:')\n",
    "                )\n",
    "            ],\n",
    "           title=\"House size\"\n",
    "        ),\n",
    "    ],\n",
    "    2, 2, map_height=500\n",
    ")"
   ]
  },
  {
   "cell_type": "markdown",
   "id": "1df1f091-9761-4b3c-b205-5857fa781f51",
   "metadata": {
    "heading_collapsed": "true",
    "tags": []
   },
   "source": [
    "### Travel time to closest shopping"
   ]
  },
  {
   "cell_type": "markdown",
   "id": "74068fef-8294-4ce7-84c5-07aaeb560251",
   "metadata": {
    "tags": []
   },
   "source": [
    "<font size=3>POIs dataset preparation</font>"
   ]
  },
  {
   "cell_type": "code",
   "execution_count": null,
   "id": "e1dd7029-4c35-4c43-8a28-50adf2ab7879",
   "metadata": {},
   "outputs": [],
   "source": [
    "fns = {\n",
    "    'busStops/StopServingLines1219.shp': 'busStop',\n",
    "    'Banks.geojson': 'bank',\n",
    "    'Unis.geojson': 'university',\n",
    "    'Hospitals.geojson': 'hospital',\n",
    "    'Metro_Stations.geojson': 'metro',\n",
    "    'Public_Elementary_Schools.geojson': 'elementary_school',\n",
    "    'Public_High_Schools.geojson': 'high_school',\n",
    "    'Public_Middle_Schools.geojson': 'middle_school',\n",
    "    'Shopping_Centers.geojson': 'shopping'\n",
    "}\n",
    "\n",
    "gdfs = []\n",
    "for fn, _type in fns.items():\n",
    "    gdf = gpd.read_file('data/vector/'+fn)\n",
    "    gdf = gdf[['geometry']]\n",
    "    gdf['type'] = _type\n",
    "    gdfs.append(gdf)\n",
    "\n",
    "POIs = pd.concat(gdfs)"
   ]
  },
  {
   "cell_type": "code",
   "execution_count": null,
   "id": "11a1323f-91cb-44ac-a3ac-cd5d48376ccf",
   "metadata": {},
   "outputs": [],
   "source": [
    "print('Points of Interest count by type:')\n",
    "print(POIs['type'].value_counts())\n",
    "print('')"
   ]
  },
  {
   "cell_type": "markdown",
   "id": "8744c7a1-1791-4bfc-9e1c-4322f75665a6",
   "metadata": {},
   "source": [
    "<font size=4>Carto routing </font>"
   ]
  },
  {
   "cell_type": "code",
   "execution_count": null,
   "id": "99294605-5c3b-498f-a9d7-0f6ad3010ee8",
   "metadata": {},
   "outputs": [],
   "source": [
    "start = Point(-118.34241, 33.90896)\n",
    "end = Point(-118.22668, 33.94664)\n",
    "sql = f\"\"\"\n",
    "SELECT duration, length, shape as the_geom \n",
    "FROM cdb_route_point_to_point('{start.wkt}'::geometry, '{end.wkt}'::geometry, 'car')\n",
    "\"\"\"\n",
    "route = read_carto(sql).rename(columns={'the_geom': 'geometry'}).set_geometry('geometry')\n",
    "route['duration'] = round(route['duration']/60, 2).astype(str) + ' mins.'\n",
    "route['length'] = round(route['length']/1000, 2).astype(str) + ' km'\n",
    "route['start'] = [start]\n",
    "route['end'] = [end]\n",
    "route.head()"
   ]
  },
  {
   "cell_type": "code",
   "execution_count": null,
   "id": "0b675a24-713a-4ae4-bebb-095456a3eb22",
   "metadata": {},
   "outputs": [],
   "source": [
    "viz.Map(\n",
    "    layers=[\n",
    "        viz.Layer(\n",
    "            route, \n",
    "            style=viz.basic_style(color='black'),\n",
    "            popup_hover=[\n",
    "                viz.popup_element('length', title='Length:'),\n",
    "                viz.popup_element('duration', title='Duration:'),\n",
    "            ]\n",
    "            \n",
    "        ),\n",
    "        viz.Layer(\n",
    "            route.set_geometry('start'), \n",
    "            style=viz.basic_style(color='green', size=8)\n",
    "        ),\n",
    "        viz.Layer(\n",
    "            route.set_geometry('end'), \n",
    "            style=viz.basic_style(color='red', size=8)\n",
    "        ),\n",
    "    ]\n",
    ")"
   ]
  },
  {
   "cell_type": "markdown",
   "id": "c534323b-56f0-4ea6-a90f-c41e8d37ec59",
   "metadata": {},
   "source": [
    "<font size=3>Distance matrix calculation</font>"
   ]
  },
  {
   "cell_type": "code",
   "execution_count": null,
   "id": "aa41f76d-6779-4a85-bb41-2b1a58fd8c6b",
   "metadata": {},
   "outputs": [],
   "source": [
    "xmin, ymin, xmax, ymax = neighbourhoods.unary_union.bounds\n",
    "sql = f\"\"\"\n",
    "Select ST_Transform(CDB_HexagonGrid(ST_Transform(ST_MakeEnvelope({xmin}, {ymin}, {xmax}, {ymax}, 4326), 3857), 1000), 4326) as the_geom\n",
    "\"\"\"\n",
    "dm_grid = read_carto(sql)\n",
    "print('Grid created successfully.')\n",
    "\n",
    "assert neighbourhoods.crs == dm_grid.crs, \"gdfs must have same CRS.\"\n",
    "\n",
    "dm_grid = (\n",
    "    gpd.sjoin(dm_grid, neighbourhoods)\n",
    "        .drop_duplicates('the_geom')\n",
    "        .geometry.to_frame()\n",
    "        .reset_index()\n",
    "        .rename(columns={\n",
    "            'index': 'gid',\n",
    "            'the_geom': 'geometry'\n",
    "        }).set_geometry('geometry')\n",
    ")\n",
    "\n",
    "cross = (\n",
    "    dm_grid.to_crs('EPSG:3857')\n",
    "        .rename(columns={\n",
    "            'gid': 'from_id', \n",
    "            'geometry': 'startp'}\n",
    "    ).join(\n",
    "        dm_grid.to_crs('EPSG:3857')\n",
    "            .rename(columns={\n",
    "                'gid': 'to_id', \n",
    "                'geometry': 'endp'\n",
    "            }),\n",
    "        how='cross'\n",
    "    ).set_geometry('startp')\n",
    ")\n",
    "#cross = cross[cross.from_id != cross.to_id]\n",
    "cross['startp'] = cross.startp.centroid\n",
    "cross['endp'] = cross.endp.centroid\n",
    "\n",
    "print(f'{len(cross)} distances to compute.')\n",
    "cross['length'] = round(cross.startp.distance(cross.endp),0)\n",
    "cross = cross.drop(columns=['startp', 'endp'])\n",
    "#cross.head()\n",
    "\n",
    "shoppings = POIs[POIs['type']=='shopping'].copy()\n",
    "shoppings = gpd.sjoin(shoppings, dm_grid.to_crs(shoppings.crs))[['gid']].reset_index().rename(columns={'index': 'shop_id'})\n",
    "# shoppings.head()\n",
    "\n",
    "dm = cross.merge(shoppings, left_on='from_id', right_on='gid').pivot(index='to_id', columns='shop_id', values='length')\n",
    "dominance = dm.apply(lambda r: pd.Series(data=[r.idxmin(), r.min()], index=['shop_id', 'distance']), axis=1)\n",
    "dominance = dm_grid.merge(dominance, left_on='gid', right_index=True).to_crs('EPSG:4326')\n",
    "dominance.head()"
   ]
  },
  {
   "cell_type": "markdown",
   "id": "03aaca2b-2217-4060-a3b9-bc1be3ca50a6",
   "metadata": {},
   "source": [
    "<font size=4>Census population aggregation</font> "
   ]
  },
  {
   "cell_type": "code",
   "execution_count": null,
   "id": "c7e34f47-0e7f-44f3-afc6-0450860544a9",
   "metadata": {},
   "outputs": [],
   "source": [
    "census = gpd.read_file('data/vector/2010_Census_Data_By_Block.geojson')\n",
    "pop = gpd.sjoin(dm_grid, census[['POP_2010', 'geometry']]).groupby('gid').agg(\n",
    "        mean_pop=pd.NamedAgg(column='POP_2010', aggfunc='mean'),\n",
    "        geometry=pd.NamedAgg(column='geometry', aggfunc=lambda g: g.iloc[0])\n",
    "    ).set_geometry('geometry')\n",
    "pop.head()"
   ]
  },
  {
   "cell_type": "code",
   "execution_count": null,
   "id": "ed328601-2901-4c75-9dae-8f190e5a5891",
   "metadata": {},
   "outputs": [],
   "source": [
    "viz.Layout(\n",
    "    maps =\n",
    "    [\n",
    "        viz.Map( # distance\n",
    "            layers=[\n",
    "                viz.Layer(\n",
    "                    source=dominance, \n",
    "                    style=viz.color_bins_style('distance', bins=10, opacity='.8', palette='sunset', stroke_width=0, method='equal'), \n",
    "                    encode_data=False\n",
    "                ),\n",
    "                viz.Layer(\n",
    "                    source=gpd.sjoin(POIs[POIs['type']=='shopping'], neighbourhoods),\n",
    "                    style=viz.basic_style(color='black', size=2),\n",
    "                )\n",
    "            ],\n",
    "           title=\"Distance to closest shopping center\"\n",
    "        ),\n",
    "        viz.Map(\n",
    "            layers=[\n",
    "                viz.Layer(\n",
    "                    source=pop,\n",
    "                    style=viz.color_bins_style('mean_pop', palette='reverse(sunset)', bins=7),\n",
    "                    encode_data=False\n",
    "                )\n",
    "            ],\n",
    "            title='Mean population by hexagon'\n",
    "        )\n",
    "\n",
    "    ],\n",
    "    n_size=2, m_size=1, map_height=500\n",
    ")"
   ]
  },
  {
   "cell_type": "code",
   "execution_count": null,
   "id": "29d8c568-9e0d-4f80-90ed-a1d115913718",
   "metadata": {},
   "outputs": [],
   "source": [
    "viz.Map(\n",
    "    layers=[\n",
    "        viz.Layer(\n",
    "            source=dominance.dissolve('shop_id').reset_index('shop_id').astype({'shop_id': 'str'}), \n",
    "            style=viz.color_category_style('shop_id',cat=[str(i) for i in dominance.shop_id.unique()], palette='pastel'),\n",
    "            encode_data=False\n",
    "        ),\n",
    "        viz.Layer(\n",
    "            source=gpd.sjoin(POIs[POIs['type']=='shopping'], neighbourhoods),\n",
    "            style=viz.basic_style(color='black', size=2),\n",
    "            legends=viz.basic_legend()\n",
    "        )\n",
    "    ],\n",
    "   title=\"Area dominance by shopping center\"\n",
    ")"
   ]
  },
  {
   "cell_type": "markdown",
   "id": "4fe2a939-a205-4888-af23-fa6bf404a89a",
   "metadata": {
    "heading_collapsed": "true",
    "tags": []
   },
   "source": [
    "## <font size=6>5. House price prediction</font>"
   ]
  },
  {
   "cell_type": "markdown",
   "id": "fe301827-2e63-4415-a150-e9ef5a06f99b",
   "metadata": {
    "heading_collapsed": "true",
    "tags": []
   },
   "source": [
    "### Carto Isochrones"
   ]
  },
  {
   "cell_type": "markdown",
   "id": "ddb28839-8b67-4ac5-b3a2-9bf9e280e1a9",
   "metadata": {},
   "source": [
    "<font size=3>An isochrone map in geography and urban planning is a map that depicts the area accessible from a point within a certain time threshold. By calculating the area that we can cover in a given ammount of time, we could find out what POIs are in the proximity of each house.</font>\n",
    "\n",
    "<font size=3>CARTO has an isochrone service that allows us to calculate the isochrone for each geometry in a GeoDataFrame. Let's see how it works.</font>"
   ]
  },
  {
   "cell_type": "code",
   "execution_count": null,
   "id": "411e1516-6e5a-45c6-9113-da7e498107a7",
   "metadata": {},
   "outputs": [],
   "source": [
    "sample = la_homes.head()\n",
    "isochrones_15, _ = Isolines().isochrones(sample, [15*60], mode='walk', quality=3)\n",
    "isochrones_15.head()"
   ]
  },
  {
   "cell_type": "code",
   "execution_count": null,
   "id": "de70831d-97bc-4272-8f0d-7e277ae62833",
   "metadata": {},
   "outputs": [],
   "source": [
    "viz.Map(\n",
    "    [\n",
    "        viz.Layer(\n",
    "            gpd.sjoin(POIs, neighbourhoods), \n",
    "            style=viz.color_category_style('type', size=3, opacity=.7),\n",
    "            widgets=viz.category_widget('type', title='POI type', description='description', footer='footer', read_only=False, weight=3)\n",
    "        ),\n",
    "        viz.Layer(isochrones_15, style=viz.basic_style(opacity=.2, color='blue'), encode_data=False),\n",
    "        viz.Layer(sample, style=viz.basic_style(color='red', size=8))\n",
    "    \n",
    "    ]\n",
    ")"
   ]
  },
  {
   "cell_type": "markdown",
   "id": "bb145b15-04bc-4677-9901-e8c73c1f1389",
   "metadata": {
    "tags": []
   },
   "source": [
    "<font size=3>Because we are about to build 76k isochrones, we are going to do this in a separe batch .py programm. This programm will send 380 chunks of the original dataset so that we don't overload the server.</font>\n",
    "\n",
    "<font size=3>This program will send each chunk to the carto server and return a geodf with the isochrones. Once we have the current geodf, we save it to disk and move forward to the next chunk.</font>\n",
    "\n",
    "<font size=3>Now we can start making intersting local context spatial merges with each home's nearby area!</font>"
   ]
  },
  {
   "cell_type": "code",
   "execution_count": null,
   "id": "9332b631-fe98-45cb-94e3-3fe060afe6f7",
   "metadata": {},
   "outputs": [],
   "source": [
    "iso = gpd.read_file('data/vector/isochrones/iso.geojson').rename(columns={'source_id': 'cartodb_id'}).drop_duplicates('cartodb_id') \n",
    "print(len(iso), 'isochrones')\n",
    "iso.head()"
   ]
  },
  {
   "cell_type": "code",
   "execution_count": null,
   "id": "f5b26044-2f7f-47e5-b80a-9cb9a4724fcf",
   "metadata": {},
   "outputs": [],
   "source": [
    "iso = (\n",
    "    pd.merge(iso, la_homes, how='inner', on='cartodb_id')\n",
    "    .rename(columns={\n",
    "        'geometry_x': 'isochrone',\n",
    "        'geometry_y': 'house'\n",
    "    })\n",
    "    .drop_duplicates('cartodb_id')\n",
    "    .set_geometry('isochrone')\n",
    ")\n",
    "print(len(iso), 'total geometries.')\n",
    "iso.head(2)"
   ]
  },
  {
   "cell_type": "code",
   "execution_count": null,
   "id": "4340db10-36ff-4277-9ba0-0dbcf1391fe3",
   "metadata": {},
   "outputs": [],
   "source": [
    "assert POIs.crs == iso.crs, \"gdfs must be on the same CRS\"\n",
    "\n",
    "st = time.time()\n",
    "sjoin = gpd.sjoin(POIs, iso, how='right', op='within').fillna({'type': 'cero'}).drop(columns=['index_left'])\n",
    "print(f'Join between {len(POIs)} POIs and {len(iso)} isochrones done in {round(time.time()-st, 2)} secs.')\n",
    "\n",
    "\n",
    "\n",
    "pivot = sjoin.pivot_table(index='cartodb_id', columns='type', values='saleprice', aggfunc='count', fill_value=0).reset_index().drop(columns=['cero'])\n",
    "\n",
    "la_homes_enriched = pd.merge(\n",
    "    sjoin.drop_duplicates('cartodb_id'),\n",
    "    pivot,\n",
    "    how='inner',\n",
    "    on='cartodb_id'\n",
    ")\n",
    "la_homes_enriched[\n",
    "    (la_homes_enriched.bank.ne(0)) &\n",
    "    (la_homes_enriched.hospital.ne(0)) &\n",
    "    (la_homes_enriched.metro.ne(0)) &\n",
    "    (la_homes_enriched.busStop.ne(0)) \n",
    "].head()"
   ]
  },
  {
   "cell_type": "markdown",
   "id": "740761b9-b9e5-42ca-a565-da6d74d3ace0",
   "metadata": {
    "tags": []
   },
   "source": [
    "<font size=\"4\"> Carto dataset catalog</font>"
   ]
  },
  {
   "cell_type": "markdown",
   "id": "53e72991-f0ad-42e8-817e-00614f282230",
   "metadata": {},
   "source": [
    "<font size=\"2\">Crime Risk - United States of America (Census Block Group): Relative risk of specific crime types for any geographic area. Crime by type.</font>\n",
    "\n",
    "<font size=\"2\">Geographic Insights - United States of America (Census Block Group, monthly):  Sales, transactions, average ticket size , number of accounts, etc. happening in a retail area on a specific period in time.</font>\n",
    "\n",
    "![carto dataset map example](credit-card.png)"
   ]
  },
  {
   "cell_type": "markdown",
   "id": "ac2f7ff1-3045-4b49-8329-2a5fcd52dddb",
   "metadata": {
    "heading_collapsed": "true",
    "tags": []
   },
   "source": [
    "### Model trainging and price prediction"
   ]
  },
  {
   "cell_type": "code",
   "execution_count": null,
   "id": "73a3425c-6b69-4758-95fd-30fd502d16fb",
   "metadata": {},
   "outputs": [],
   "source": [
    "numeric = [\n",
    "    'bedrooms', 'bathrooms', 'sqftmain', 'bank', 'busStop',\n",
    "    'elementary_school', 'high_school', 'hospital', 'metro', 'middle_school', \n",
    "    'shopping', 'university'\n",
    "]\n",
    "categorical = ['city', 'neighbourhood']\n",
    "\n",
    "X = pd.concat([la_homes_enriched[numeric], pd.get_dummies(la_homes_enriched[categorical])], axis=1)\n",
    "y = la_homes_enriched['saleprice']\n",
    "\n",
    "X_train, X_test, y_train, y_test = train_test_split(X, y, test_size=0.2, random_state=42)\n",
    "\n",
    "model = DecisionTreeRegressor(max_leaf_nodes=7600,random_state=454)\n",
    "model.fit(X_train,y_train)\n",
    "pred_y = model.predict(X_test)\n",
    "score = metrics.r2_score(y_test, pred_y)"
   ]
  },
  {
   "cell_type": "code",
   "execution_count": null,
   "id": "77d16457-c618-4c57-a2a2-eb6a22991e20",
   "metadata": {},
   "outputs": [],
   "source": [
    "\n",
    "fig, ax = plt.subplots(figsize=(18,5))\n",
    "sns.regplot(\n",
    "    x=y_test, y=pred_y, ax=ax,  marker=\"+\",\n",
    "    line_kws={\"color\": \"red\", \"alpha\":0.3},\n",
    "    scatter_kws={\"alpha\": .2}\n",
    ")\n",
    "ax.set_title('House price vs predicted house price', fontdict={'fontsize': 20})\n",
    "ax.set_ylabel('Predicted price (USD)', fontdict={'fontsize': 14})\n",
    "ax.set_xlabel('House price (USD)', fontdict={'fontsize': 14})\n",
    "\n",
    "\n",
    "formatter = FuncFormatter(lambda x, pos: '%1.1fM' % (x * 1e-6))\n",
    "ax.yaxis.set_major_formatter(formatter)\n",
    "ax.xaxis.set_major_formatter(formatter)\n",
    "plt.show()\n",
    "print('r2 score:', round(score,2))"
   ]
  },
  {
   "cell_type": "code",
   "execution_count": null,
   "id": "9089b203-aa7f-472a-9199-7e0065200f60",
   "metadata": {},
   "outputs": [],
   "source": [
    "\n",
    "predicted = la_homes_enriched.loc[y_test.index]\n",
    "predicted['predicted'] = [int(round(i, 0)) for i in pred_y]\n",
    "predicted['diff'] = round(predicted.predicted/predicted.saleprice, 2)\n",
    "\n",
    "#la_homes_poly = gpd.read_file('data/vector/la_homes.geojson')\n",
    "#predicted_poly = predicted[['cartodb_id', 'diff']].merge(la_homes_poly[['cartodb_id', 'geometry']], on='cartodb_id').set_geometry('geometry')\n",
    "#predicted_poly.head()"
   ]
  },
  {
   "cell_type": "code",
   "execution_count": null,
   "id": "33b57ef4-628b-4224-8a00-b377f8263a3c",
   "metadata": {},
   "outputs": [],
   "source": [
    "\n",
    "viz.Map(\n",
    "    viz.Layer(\n",
    "        source=predicted.set_geometry('house'),\n",
    "        style=viz.color_bins_style('diff', palette='Temps'),\n",
    "        widgets=viz.histogram_widget('diff', title='diff histogram', buckets=9)\n",
    "        )\n",
    ")"
   ]
  },
  {
   "cell_type": "markdown",
   "id": "5f96691a-0b49-4380-a294-17516c199fd4",
   "metadata": {
    "heading_collapsed": "true",
    "tags": []
   },
   "source": [
    "##  <font size=6>6. Recap</font>"
   ]
  },
  {
   "cell_type": "markdown",
   "id": "48fccbf8-55f5-4330-a30a-35777a2267a0",
   "metadata": {},
   "source": [
    "<font size=4>1. House price factors in LA:</font>\n",
    ">- <font size=3>House **location** (Geospatial distribution of high and low price per sqft)</font>\n",
    ">- <font size=3>Season</font>\n",
    ">- <font size=3>High value vs high volatility markets</font>\n",
    "\n",
    "\n",
    "<font size=4>2. House price prediction algorithm</font>\n",
    "\n",
    "<font size=4>3. CARTO's solutions used for analysis</font>\n",
    " >- <font size=3>Dynamic Maps + Widgets</font>\n",
    " >- <font size=3>SQL utilities (Hex Grid for granularity)</font>\n",
    " >- <font size=3>Carto Routing</font>\n",
    " >- <font size=3>Carto Isochrones</font>\n",
    " >- <font size=3>Carto Data Catalog</font>\n"
   ]
  },
  {
   "cell_type": "markdown",
   "id": "43e7580e-6a72-4987-af6f-10fac6703978",
   "metadata": {
    "heading_collapsed": "true",
    "tags": []
   },
   "source": [
    "### Extras"
   ]
  },
  {
   "cell_type": "markdown",
   "id": "d1eaf375-4440-4e19-8c64-21e3a0b32cc1",
   "metadata": {
    "tags": []
   },
   "source": [
    "<font size=4>What can we tell from the house year of construction?</font>"
   ]
  },
  {
   "cell_type": "code",
   "execution_count": null,
   "id": "9db1327c-fcfa-4778-8adb-de267fc86432",
   "metadata": {
    "tags": []
   },
   "outputs": [],
   "source": [
    "constructions = (\n",
    "    la_homes['effective_yearbuilt'].value_counts()\n",
    "        .reset_index()\n",
    "        .rename(columns={\n",
    "            'index': 'year', \n",
    "            'effective_yearbuilt': 'n_buildings'}\n",
    "        ).sort_values('year')\n",
    ")\n",
    "\n",
    "fig, ax1 = plt.subplots(figsize=(17, 5))\n",
    "sns.lineplot(data=constructions[constructions.year.between(1900, 2018)], x='year', y='n_buildings', ax=ax1,);\n",
    "\n",
    "ax1.set_title('House construction activity over time in LA', y=1.05, fontdict={'fontsize': 20});\n",
    "ax1.set_ylabel('N° of houses built', fontdict={'fontsize': 14})\n",
    "ax1.set_xlabel('Year', fontdict={'fontsize': 14})\n",
    "ax1.xaxis.set_label_coords(0.5,-.1)\n",
    "ax1.set_xticks(range(1900, 2021, 5))\n",
    "ax1.set_xlim(1900,2018)\n",
    "\n",
    "# Annotations\n",
    "def add_annotation(ax, text, scoords, ecoords):\n",
    "    ax1.annotate(text, xy=ecoords, xycoords='data', xytext=scoords, textcoords='data', arrowprops=dict(\n",
    "        arrowstyle= 'simple',color='red', alpha=0.5, lw=.5, ls='-'))\n",
    "    \n",
    "add_annotation(ax1, 'Rise in aeronautical industry', (1937, 2400), (1955, 2700))\n",
    "add_annotation(ax1, 'WW2', (1952, 180), (1943, 320))\n",
    "add_annotation(ax1, 'Office spam!', (1986, 1600), (1980, 1660))\n",
    "add_annotation(ax1, '', (1989, 1560), (1990, 1000))\n",
    "add_annotation(ax1, 'DTLA residential trend', (2005.5,2050), (2016.5,1620))\n",
    "add_annotation(ax1, '2007 housing market bubble?', (1995,1020), (2006,620))\n",
    "add_annotation(ax1, '2007 recession', (1999, 30), (2010,120))\n",
    "\n",
    "\n",
    "fig.subplots_adjust(hspace=-0.3)\n",
    "plt.tight_layout()\n",
    "plt.show()\n",
    "print('Source: www.commercialcafe.com/blog/history-los-angeles-real-estate-development/\\n')"
   ]
  },
  {
   "cell_type": "code",
   "execution_count": null,
   "id": "d6b8896f-45ae-44a8-a4cd-0858dd180ce4",
   "metadata": {},
   "outputs": [],
   "source": [
    "fig, ((ax1, ax2), (ax3, ax4)) = plt.subplots(nrows=2, ncols=2, figsize=(12,12))\n",
    "\n",
    "#ax1 \n",
    "(la_homes.bathrooms.value_counts(normalize=True, sort=False)*100).round().to_frame().sort_index().plot.bar(ax=ax1, legend=None, color='#5799C6')\n",
    "ax1.set_xlabel('Number of bathrooms', fontdict={'fontsize': 14})\n",
    "ax1.set_ylabel('Percentage', fontdict={'fontsize': 14})\n",
    "ax1.tick_params(labelrotation=0)\n",
    "ax1.yaxis.set_label_coords(-.15, .5)\n",
    "\n",
    "#ax2\n",
    "(la_homes.bedrooms.value_counts(normalize=True, sort=False)*100).round().to_frame().sort_index().plot.bar(ax=ax2, legend=None, color='#5799C6')\n",
    "ax2.set_xlabel('Number of bedrooms', fontdict={'fontsize': 14})\n",
    "ax2.set_ylabel('Percentage', fontdict={'fontsize': 14})\n",
    "ax2.tick_params(labelrotation=0)\n",
    "ax2.yaxis.set_label_coords(-.11, .5)\n",
    "\n",
    "#ax3\n",
    "sns.histplot(data=la_homes, x='sqftmain', bins=50, ax=ax3, stat='count')\n",
    "ax3.set_xlabel('House square footage', fontdict={'fontsize': 14})\n",
    "ax3.set_ylabel('Bin count', fontdict={'fontsize': 14})\n",
    "ax3.yaxis.set_label_coords(-.15, .5)\n",
    "\n",
    "\n",
    "#ax4\n",
    "sns.histplot(data=la_homes, x='saleprice', bins=50, ax=ax4, stat='count');\n",
    "ax4.set_xlabel('House sale price', fontdict={'fontsize': 14})\n",
    "ax4.set_ylabel('Bin count', fontdict={'fontsize': 14})\n",
    "ax4.yaxis.set_label_coords(-.11, .5)\n",
    "ax4.set_xticklabels([str(i/1e6)+'M' for i in ax4.get_xticks()]);\n",
    "\n",
    "fig.suptitle(\"Distribution of house properties in LA\", fontsize=24, y=1)\n",
    "plt.tight_layout()"
   ]
  },
  {
   "cell_type": "code",
   "execution_count": null,
   "id": "3d117767-4269-4e30-a21a-3220d8ec50ce",
   "metadata": {},
   "outputs": [],
   "source": [
    "fig, (ax1, ax2) = plt.subplots(ncols=2, nrows=1, figsize=(20,20))\n",
    "\n",
    "## ax1: price per square foot\n",
    "divider1 = make_axes_locatable(ax1)\n",
    "cax1 = divider1.append_axes(\"right\", size=\"5%\", pad=0.1)\n",
    "neighbourhood_agg.plot(column='mean_sqft', k=9, ax=ax1, legend=True, cax=cax1, cmap='magma', alpha=0.8)\n",
    "ax1.set_title('Mean price per square foot by neighbourhood', fontdict={'fontsize': 20})\n",
    "ax1.grid(False)\n",
    "ax1.axis('off');\n",
    "\n",
    "## ax2: mean building age\n",
    "neighbourhood_agg.plot(ax=ax2, column='n_sales', cmap='magma', legend=False, k=9, scheme='NaturalBreaks', alpha=0.8)\n",
    "vmin = neighbourhood_agg.n_sales.min()\n",
    "vmax = neighbourhood_agg.n_sales.max()\n",
    "cax = fig.add_axes([1, .385, .022, .23])\n",
    "sm = plt.cm.ScalarMappable(cmap='magma', norm=plt.Normalize(vmin=vmin, vmax=vmax))\n",
    "sm._A = []\n",
    "cbr = fig.colorbar(sm, cax=cax)\n",
    "ax2.set_title('Sale operations per neighbourhood', fontdict={'fontsize': 20})\n",
    "ax2.grid(False)\n",
    "ax2.axis('off');\n",
    "\n",
    "plt.tight_layout()"
   ]
  }
 ],
 "metadata": {
  "kernelspec": {
   "display_name": "Python 3",
   "language": "python",
   "name": "python3"
  },
  "language_info": {
   "codemirror_mode": {
    "name": "ipython",
    "version": 3
   },
   "file_extension": ".py",
   "mimetype": "text/x-python",
   "name": "python",
   "nbconvert_exporter": "python",
   "pygments_lexer": "ipython3",
   "version": "3.8.10"
  }
 },
 "nbformat": 4,
 "nbformat_minor": 5
}
