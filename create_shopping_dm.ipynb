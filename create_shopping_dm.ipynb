{
 "cells": [
  {
   "cell_type": "code",
   "execution_count": 10,
   "id": "f372e3e9-cc02-4b17-afde-6ad21d8f4e46",
   "metadata": {},
   "outputs": [],
   "source": [
    "import geopandas as gpd\n",
    "import pandas as pd\n",
    "import requests\n",
    "import numpy as np"
   ]
  },
  {
   "cell_type": "code",
   "execution_count": 3,
   "id": "4994347d-d1f2-423f-b977-5257633f2182",
   "metadata": {},
   "outputs": [],
   "source": [
    "routes = pd.read_excel('data/routes_for_dm.xlsx')"
   ]
  },
  {
   "cell_type": "code",
   "execution_count": 4,
   "id": "d82b3c87-62a4-42c2-a21f-819543fe0807",
   "metadata": {},
   "outputs": [
    {
     "data": {
      "text/html": [
       "<div>\n",
       "<style scoped>\n",
       "    .dataframe tbody tr th:only-of-type {\n",
       "        vertical-align: middle;\n",
       "    }\n",
       "\n",
       "    .dataframe tbody tr th {\n",
       "        vertical-align: top;\n",
       "    }\n",
       "\n",
       "    .dataframe thead th {\n",
       "        text-align: right;\n",
       "    }\n",
       "</style>\n",
       "<table border=\"1\" class=\"dataframe\">\n",
       "  <thead>\n",
       "    <tr style=\"text-align: right;\">\n",
       "      <th></th>\n",
       "      <th>Unnamed: 0</th>\n",
       "      <th>from_id</th>\n",
       "      <th>to_id</th>\n",
       "      <th>slat</th>\n",
       "      <th>slon</th>\n",
       "      <th>elat</th>\n",
       "      <th>elon</th>\n",
       "    </tr>\n",
       "  </thead>\n",
       "  <tbody>\n",
       "    <tr>\n",
       "      <th>0</th>\n",
       "      <td>1</td>\n",
       "      <td>13</td>\n",
       "      <td>14</td>\n",
       "      <td>34.051194</td>\n",
       "      <td>-118.92796</td>\n",
       "      <td>34.076973</td>\n",
       "      <td>-118.927960</td>\n",
       "    </tr>\n",
       "    <tr>\n",
       "      <th>1</th>\n",
       "      <td>2</td>\n",
       "      <td>13</td>\n",
       "      <td>37</td>\n",
       "      <td>34.051194</td>\n",
       "      <td>-118.92796</td>\n",
       "      <td>34.038302</td>\n",
       "      <td>-118.901011</td>\n",
       "    </tr>\n",
       "    <tr>\n",
       "      <th>2</th>\n",
       "      <td>3</td>\n",
       "      <td>13</td>\n",
       "      <td>38</td>\n",
       "      <td>34.051194</td>\n",
       "      <td>-118.92796</td>\n",
       "      <td>34.064085</td>\n",
       "      <td>-118.901011</td>\n",
       "    </tr>\n",
       "    <tr>\n",
       "      <th>3</th>\n",
       "      <td>4</td>\n",
       "      <td>13</td>\n",
       "      <td>61</td>\n",
       "      <td>34.051194</td>\n",
       "      <td>-118.92796</td>\n",
       "      <td>34.025408</td>\n",
       "      <td>-118.874062</td>\n",
       "    </tr>\n",
       "    <tr>\n",
       "      <th>4</th>\n",
       "      <td>5</td>\n",
       "      <td>13</td>\n",
       "      <td>62</td>\n",
       "      <td>34.051194</td>\n",
       "      <td>-118.92796</td>\n",
       "      <td>34.051194</td>\n",
       "      <td>-118.874062</td>\n",
       "    </tr>\n",
       "  </tbody>\n",
       "</table>\n",
       "</div>"
      ],
      "text/plain": [
       "   Unnamed: 0  from_id  to_id       slat       slon       elat        elon\n",
       "0           1       13     14  34.051194 -118.92796  34.076973 -118.927960\n",
       "1           2       13     37  34.051194 -118.92796  34.038302 -118.901011\n",
       "2           3       13     38  34.051194 -118.92796  34.064085 -118.901011\n",
       "3           4       13     61  34.051194 -118.92796  34.025408 -118.874062\n",
       "4           5       13     62  34.051194 -118.92796  34.051194 -118.874062"
      ]
     },
     "execution_count": 4,
     "metadata": {},
     "output_type": "execute_result"
    }
   ],
   "source": [
    "routes.head()"
   ]
  },
  {
   "cell_type": "code",
   "execution_count": 7,
   "id": "1deba2ed-8a03-46b7-86bf-5f1f95e8e8ce",
   "metadata": {},
   "outputs": [
    {
     "data": {
      "text/plain": [
       "1973.16"
      ]
     },
     "execution_count": 7,
     "metadata": {},
     "output_type": "execute_result"
    }
   ],
   "source": [
    "http://192.168.0.116:5000/route/v1/driving/-118.92796,34.051194;-118.927960,34.076973?overview=full&geometries=geojson"
   ]
  },
  {
   "cell_type": "code",
   "execution_count": 13,
   "id": "2ea73ed7-4254-4ae2-ba51-59dc75711804",
   "metadata": {},
   "outputs": [
    {
     "name": "stdout",
     "output_type": "stream",
     "text": [
      "http://192.168.0.116:5000/route/v1/driving/-118.9279604645834,34.05119446036709;-118.9279604645834,34.07697343102303?overview=full&geometries=geojson\n"
     ]
    }
   ],
   "source": [
    "print(urls[0])"
   ]
  },
  {
   "cell_type": "code",
   "execution_count": 11,
   "id": "bff09510-5147-4478-ac41-47fde7065dbe",
   "metadata": {},
   "outputs": [],
   "source": [
    "url = \"http://192.168.0.116:5000/route/v1/driving/{slon},{slat};{elon},{elat}?overview=full&geometries=geojson\"\n",
    "\n",
    "blocks = np.array_split(routes, 200)\n",
    "\n",
    "for i in [0, 1]:#range(len(blocks)):\n",
    "    \n",
    "    block = blocks[i]\n",
    "    urls = block.apply(lambda r: url.format(\n",
    "        slon=r['slon'],\n",
    "        slat=r['slat'], \n",
    "        elon=r['elon'], \n",
    "        elat=r['elat']), axis=1)\n",
    "    break\n",
    "    rs = (grequests.get(u) for u in urls)\n",
    "    responses = grequests.map(rs)\n",
    "    \n",
    "    routes = []\n",
    "    mask = []\n",
    "    \n",
    "    for res in responses:\n",
    "        try:\n",
    "            routes.append(LineString(res.json()['routes'][0]['geometry']['coordinates']))\n",
    "            mask.append(True)\n",
    "        except:\n",
    "            rejected.append(res)\n",
    "            mask.append(False)\n",
    "    \n",
    "    valids = block.loc[mask]    \n",
    "    routes = (\n",
    "        gpd.GeoDataFrame(valids, geometry=routes, crs='EPSG:4326')\n",
    "            .rename(columns={'geometry': 'route'})\n",
    "            .set_geometry('route')\n",
    "     )\n",
    "    routes['length'] = routes.to_crs('EPSG:3857').geometry.length\n",
    "    routes['from_id', 'to_id', 'lenght'].to_excel(f'data/vector/dm/{i}.geojson', driver='GeoJSON')"
   ]
  },
  {
   "cell_type": "code",
   "execution_count": null,
   "id": "a203a0e0-012e-4c7c-a5d6-36835bdba33d",
   "metadata": {},
   "outputs": [],
   "source": [
    "\n",
    "\n",
    "rejected = []\n",
    "tot_start = time.time()\n",
    "step = 5000\n",
    "last = 0\n",
    "start_date, end_date = df.pickup_datetime.min(), df.pickup_datetime.max() #+ datetime.timedelta(days=7)\n",
    "period = df[(df.pickup_datetime>= start_date) & (df.pickup_datetime<end_date)].reset_index(drop=True)\n",
    "print('Total routes to construct:', len(period))\n",
    "for new in period.index[::step]:\n",
    "    start = time.time()\n",
    "    block = period.loc[last:new]\n",
    "    urls = block.apply(lambda r: url.format(\n",
    "        slng=r['pickup_longitude'],\n",
    "        slat=r['pickup_latitude'], \n",
    "        elng=r['dropoff_longitude'], \n",
    "        elat=r['dropoff_latitude']), axis=1)\n",
    "    \n",
    "    rs = (grequests.get(u) for u in urls)\n",
    "    responses = grequests.map(rs)\n",
    "    routes = []\n",
    "    mask = []\n",
    "    for res in responses:\n",
    "        try:\n",
    "            routes.append(LineString(res.json()['routes'][0]['geometry']['coordinates']))\n",
    "            mask.append(True)\n",
    "        except:\n",
    "            rejected.append(res)\n",
    "            mask.append(False)\n",
    "    \n",
    "    valids = block.loc[mask]    \n",
    "    routes = (gpd.GeoDataFrame(valids, geometry=routes, crs='EPSG:4326')\n",
    "        .rename(columns={'geometry': 'route'})\n",
    "        .set_geometry('route')\n",
    "        .drop(columns=['pickup_longitude', 'pickup_latitude', 'dropoff_longitude', 'dropoff_latitude'])\n",
    "     )\n",
    "    routes['startp'] = gpd.points_from_xy(valids.pickup_longitude, valids.pickup_latitude, crs='EPSG:4326')\n",
    "    routes['endp'] = gpd.points_from_xy(valids.dropoff_longitude, valids.dropoff_latitude, crs='EPSG:4326')\n",
    "    routes['length'] = routes.to_crs('EPSG:32618').geometry.length\n",
    "\n",
    "#    cur.executemany(insert_sql, [tuple(r.values) for _, r in routes.iterrows()])\n",
    "    routes.to_postgis('routes', engine, if_exists='append', index=False,\n",
    "                      dtype={\n",
    "                          'route': Geometry(geometry_type='LINESTRING', srid=4326),\n",
    "                          'startp': Geometry(geometry_type='POINT', srid=4326),\n",
    "                          'endp': Geometry(geometry_type='POINT', srid=4326),\n",
    "                      }\n",
    "     )\n",
    "\n",
    "    print(f'Requests {last}:{new} took {round(time.time()-start, 1)} secs.')\n",
    "    last = new\n",
    "\n",
    "print(f'Calculated {len(period)} in {round((time.time()-tot_start)/3660, 2)} hours.')"
   ]
  }
 ],
 "metadata": {
  "kernelspec": {
   "display_name": "Python 3",
   "language": "python",
   "name": "python3"
  },
  "language_info": {
   "codemirror_mode": {
    "name": "ipython",
    "version": 3
   },
   "file_extension": ".py",
   "mimetype": "text/x-python",
   "name": "python",
   "nbconvert_exporter": "python",
   "pygments_lexer": "ipython3",
   "version": "3.8.10"
  }
 },
 "nbformat": 4,
 "nbformat_minor": 5
}
